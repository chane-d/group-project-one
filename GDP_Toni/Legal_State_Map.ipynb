{
 "cells": [
  {
   "cell_type": "code",
   "execution_count": 11,
   "metadata": {},
   "outputs": [],
   "source": [
    "import plotly as py\n",
    "import plotly.graph_objs as go"
   ]
  },
  {
   "cell_type": "code",
   "execution_count": 29,
   "metadata": {},
   "outputs": [],
   "source": [
    "data = dict (\n",
    "    type = 'choropleth',\n",
    "    locations = ['OR','WA','CO','DC','AK','CA','MI','NV','VT','ME','MA'],\n",
    "    locationmode='USA-states',\n",
    "    colorscale='Greens',\n",
    "    z=[9.7,9.7,9.7,9.7,9.7,9.7,9.7,9.7,9.7,9.7])\n",
    "\n",
    "lyt = dict(geo=dict(scope='usa'))\n"
   ]
  },
  {
   "cell_type": "code",
   "execution_count": 33,
   "metadata": {
    "scrolled": true
   },
   "outputs": [
    {
     "data": {
      "text/plain": [
       "'file://C:\\\\Users\\\\mstos\\\\Desktop\\\\NUProjects\\\\group-project-one\\\\GDP_Toni\\\\temp-plot.html'"
      ]
     },
     "execution_count": 33,
     "metadata": {},
     "output_type": "execute_result"
    }
   ],
   "source": [
    "map = go.Figure(data=[data], layout = lyt)\n",
    "py.offline.plot(map)"
   ]
  },
  {
   "cell_type": "code",
   "execution_count": null,
   "metadata": {},
   "outputs": [],
   "source": []
  }
 ],
 "metadata": {
  "kernelspec": {
   "display_name": "Python 3",
   "language": "python",
   "name": "python3"
  },
  "language_info": {
   "codemirror_mode": {
    "name": "ipython",
    "version": 3
   },
   "file_extension": ".py",
   "mimetype": "text/x-python",
   "name": "python",
   "nbconvert_exporter": "python",
   "pygments_lexer": "ipython3",
   "version": "3.7.0"
  }
 },
 "nbformat": 4,
 "nbformat_minor": 2
}
