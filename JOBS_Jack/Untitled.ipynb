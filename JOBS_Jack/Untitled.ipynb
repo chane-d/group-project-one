{
 "cells": [
  {
   "cell_type": "code",
   "execution_count": 12,
   "metadata": {},
   "outputs": [],
   "source": [
    "import pandas as pd"
   ]
  },
  {
   "cell_type": "code",
   "execution_count": 13,
   "metadata": {},
   "outputs": [],
   "source": [
    "# get csv files\n",
    "\n",
    "colorado_file = 'csv_folder/colorado.csv'\n",
    "oregon_file = 'csv_folder/oregon.csv'\n",
    "washington_file = 'csv_folder/washington.csv'\n",
    "alaska_file = 'csv_folder/alaska.csv'\n",
    "us_employment_file = 'csv_folder/us_nonfarm_ttl_employed.csv'\n",
    "us_unemployment_rate_file = 'csv_folder/us_unemployment_rate.csv'\n",
    "us_unemployed_file = 'csv_folder/us_unemployed_ttl.csv'"
   ]
  },
  {
   "cell_type": "code",
   "execution_count": 14,
   "metadata": {},
   "outputs": [],
   "source": [
    "# make dataframe\n",
    "\n",
    "colorado_df = pd.read_csv(colorado_file)\n",
    "oregon_df = pd.read_csv(oregon_file)\n",
    "washington_df = pd.read_csv(washington_file)\n",
    "alaska_df = pd.read_csv(alaska_file)\n",
    "us_employment_df = pd.read_csv(us_employment_file)\n",
    "us_unemployment_rate_df = pd.read_csv(us_unemployment_rate_file)\n",
    "us_unemployed_df = pd.read_csv(us_unemployed_file)\n"
   ]
  },
  {
   "cell_type": "code",
   "execution_count": null,
   "metadata": {},
   "outputs": [],
   "source": [
    "# Colorado\n",
    "\n"
   ]
  }
 ],
 "metadata": {
  "kernelspec": {
   "display_name": "Python 3",
   "language": "python",
   "name": "python3"
  },
  "language_info": {
   "codemirror_mode": {
    "name": "ipython",
    "version": 3
   },
   "file_extension": ".py",
   "mimetype": "text/x-python",
   "name": "python",
   "nbconvert_exporter": "python",
   "pygments_lexer": "ipython3",
   "version": "3.7.0"
  }
 },
 "nbformat": 4,
 "nbformat_minor": 2
}
